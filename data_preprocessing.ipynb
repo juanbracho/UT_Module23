{
 "cells": [
  {
   "cell_type": "code",
   "execution_count": 1,
   "metadata": {},
   "outputs": [],
   "source": [
    "# Import necessary libraries\n",
    "import pandas as pd\n",
    "import sqlite3\n",
    "import os\n",
    "\n",
    "# Define constants\n",
    "DB_PATH = 'database/stocks_data.db'  # Path to the SQLite database\n",
    "RAW_STOCKS_TABLE = 'raw_stocks'  # Table containing raw stock data\n",
    "PROCESSED_STOCKS_TABLE = 'processed_stocks'  # Table for storing processed data\n",
    "\n",
    "# Ensure the database directory exists\n",
    "if not os.path.exists(DB_PATH):\n",
    "    raise FileNotFoundError(f\"Database at {DB_PATH} does not exist. Run the data fetching script first.\")\n"
   ]
  },
  {
   "cell_type": "code",
   "execution_count": 2,
   "metadata": {},
   "outputs": [],
   "source": [
    "def initialize_processed_table():\n",
    "    \"\"\"\n",
    "    Creates or updates the processed_stocks table schema to ensure it aligns with the data structure.\n",
    "    \"\"\"\n",
    "    with sqlite3.connect(DB_PATH) as conn:\n",
    "        conn.execute(f\"\"\"\n",
    "        CREATE TABLE IF NOT EXISTS {PROCESSED_STOCKS_TABLE} (\n",
    "            Date TEXT,\n",
    "            Ticker TEXT,\n",
    "            Open REAL,\n",
    "            High REAL,\n",
    "            Low REAL,\n",
    "            Close REAL,\n",
    "            Adj_Close REAL,\n",
    "            Volume INTEGER,\n",
    "            MovingAverage7Day REAL,\n",
    "            MovingAverage14Day REAL,\n",
    "            Volatility REAL,\n",
    "            Lag1 REAL,\n",
    "            Lag2 REAL,\n",
    "            PRIMARY KEY (Date, Ticker)\n",
    "        )\n",
    "        \"\"\")\n",
    "        print(f\"Table {PROCESSED_STOCKS_TABLE} ensured in database.\")\n",
    "\n"
   ]
  },
  {
   "cell_type": "code",
   "execution_count": 3,
   "metadata": {},
   "outputs": [],
   "source": [
    "# Function to calculate new features for preprocessing\n",
    "def calculate_features(data):\n",
    "    \"\"\"\n",
    "    Calculates additional features for the stock data.\n",
    "\n",
    "    Parameters:\n",
    "    data (pd.DataFrame): The stock data to process.\n",
    "\n",
    "    Returns:\n",
    "    pd.DataFrame: Processed data with additional features.\n",
    "    \"\"\"\n",
    "    data = data[['Date', 'Ticker', 'Adj_Close', 'Volume']].copy()  # Only keep necessary columns\n",
    "    data['MovingAverage7Day'] = data['Adj_Close'].rolling(window=7).mean()\n",
    "    data['MovingAverage14Day'] = data['Adj_Close'].rolling(window=14).mean()\n",
    "    data['Volatility'] = data['Adj_Close'].rolling(window=7).std()\n",
    "    data['Lag1'] = data['Adj_Close'].shift(1)\n",
    "    data['Lag2'] = data['Adj_Close'].shift(2)\n",
    "    return data.dropna()\n",
    "\n"
   ]
  },
  {
   "cell_type": "code",
   "execution_count": 4,
   "metadata": {},
   "outputs": [],
   "source": [
    "# Function to process and store stock data\n",
    "def process_and_store_data(ticker):\n",
    "    \"\"\"\n",
    "    Processes stock data for a specific ticker and saves it to the database.\n",
    "\n",
    "    Parameters:\n",
    "    ticker (str): The stock ticker symbol (e.g., 'AAPL').\n",
    "    \"\"\"\n",
    "    try:\n",
    "        # Connect to the database and load raw data\n",
    "        with sqlite3.connect(DB_PATH) as conn:\n",
    "            query = f\"SELECT * FROM {RAW_STOCKS_TABLE} WHERE Ticker = ?\"\n",
    "            raw_data = pd.read_sql_query(query, conn, params=(ticker,))\n",
    "        \n",
    "        if raw_data.empty:\n",
    "            print(f\"No raw data found for ticker {ticker}. Skipping.\")\n",
    "            return\n",
    "        \n",
    "        # Process the data\n",
    "        processed_data = calculate_features(raw_data)\n",
    "\n",
    "        # Save processed data back to the database\n",
    "        with sqlite3.connect(DB_PATH) as conn:\n",
    "            processed_data.to_sql(PROCESSED_STOCKS_TABLE, conn, if_exists='append', index=False)\n",
    "\n",
    "        print(f\"Processed data for {ticker} saved to the database.\")\n",
    "    except Exception as e:\n",
    "        print(f\"An error occurred while processing data for {ticker}: {e}\")\n"
   ]
  },
  {
   "cell_type": "code",
   "execution_count": 5,
   "metadata": {},
   "outputs": [],
   "source": [
    "# Function to process all tickers in the raw stocks table\n",
    "def process_all_tickers():\n",
    "    \"\"\"\n",
    "    Processes stock data for all tickers in the raw_stocks table.\n",
    "    \"\"\"\n",
    "    with sqlite3.connect(DB_PATH) as conn:\n",
    "        query = f\"SELECT DISTINCT Ticker FROM {RAW_STOCKS_TABLE}\"\n",
    "        tickers = pd.read_sql_query(query, conn)['Ticker'].tolist()\n",
    "\n",
    "    for ticker in tickers:\n",
    "        process_and_store_data(ticker)\n"
   ]
  }
 ],
 "metadata": {
  "kernelspec": {
   "display_name": "Python 3",
   "language": "python",
   "name": "python3"
  },
  "language_info": {
   "codemirror_mode": {
    "name": "ipython",
    "version": 3
   },
   "file_extension": ".py",
   "mimetype": "text/x-python",
   "name": "python",
   "nbconvert_exporter": "python",
   "pygments_lexer": "ipython3",
   "version": "3.12.4"
  }
 },
 "nbformat": 4,
 "nbformat_minor": 2
}
