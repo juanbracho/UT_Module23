{
 "cells": [
  {
   "cell_type": "code",
   "execution_count": 1,
   "metadata": {},
   "outputs": [
    {
     "name": "stdout",
     "output_type": "stream",
     "text": [
      "Loaded data from SQLite: 12084 rows\n"
     ]
    }
   ],
   "source": [
    "# Import necessary libraries\n",
    "import pandas as pd\n",
    "import numpy as np\n",
    "import sqlite3\n",
    "\n",
    "# Path to SQLite database\n",
    "db_path = 'stocks_data.db'\n",
    "\n",
    "# Step 1: Load raw stock data from SQLite\n",
    "with sqlite3.connect(db_path) as conn:\n",
    "    query = \"SELECT * FROM stocks\"\n",
    "    raw_data = pd.read_sql(query, conn)\n",
    "\n",
    "print(f\"Loaded data from SQLite: {raw_data.shape[0]} rows\")\n",
    "\n",
    "# Ensure 'Adj Close' is numeric\n",
    "raw_data['Adj Close'] = pd.to_numeric(raw_data['Adj Close'], errors='coerce')\n",
    "raw_data = raw_data.dropna(subset=['Adj Close'])\n"
   ]
  },
  {
   "cell_type": "code",
   "execution_count": 2,
   "metadata": {},
   "outputs": [
    {
     "name": "stdout",
     "output_type": "stream",
     "text": [
      "Processed data saved to SQLite database (table: 'processed_stocks').\n",
      "                   Date  Adj Close      Close       High        Low  \\\n",
      "13  2015-01-22 00:00:00  60.068398  92.870003  92.970001  91.320000   \n",
      "14  2015-01-23 00:00:00  58.787739  90.889999  92.480003  90.790001   \n",
      "15  2015-01-26 00:00:00  59.350456  91.760002  91.940002  90.470001   \n",
      "16  2015-01-27 00:00:00  58.826542  90.949997  91.599998  90.599998   \n",
      "17  2015-01-28 00:00:00  56.886135  87.949997  90.930000  87.820000   \n",
      "\n",
      "         Open    Volume      Company Ticker   7-day MA  14-day MA  \\\n",
      "13  92.309998  13559000  Exxon Mobil    XOM  58.734147  58.857040   \n",
      "14  92.279999  14706300  Exxon Mobil    XOM  58.816381  58.767411   \n",
      "15  90.610001  10672500  Exxon Mobil    XOM  59.003029  58.835327   \n",
      "16  91.239998  12301500  Exxon Mobil    XOM  59.186905  58.887994   \n",
      "17  90.879997  17829700  Exxon Mobil    XOM  58.893996  58.760020   \n",
      "\n",
      "    Daily Return  Volatility      Lag_1      Lag_2  \n",
      "13      0.010885    0.011294  59.421604  58.917099  \n",
      "14     -0.021320    0.014743  60.068398  59.421604  \n",
      "15      0.009572    0.014877  58.787739  60.068398  \n",
      "16     -0.008827    0.014895  59.350456  58.787739  \n",
      "17     -0.032985    0.017003  58.826542  59.350456  \n"
     ]
    }
   ],
   "source": [
    "# Step 2: Engineer Features\n",
    "# 2.1 Moving Averages\n",
    "raw_data['7-day MA'] = raw_data.groupby('Ticker')['Adj Close'].transform(lambda x: x.rolling(window=7).mean())\n",
    "raw_data['14-day MA'] = raw_data.groupby('Ticker')['Adj Close'].transform(lambda x: x.rolling(window=14).mean())\n",
    "\n",
    "# 2.2 Volatility (7-day rolling standard deviation of percentage changes)\n",
    "raw_data['Daily Return'] = raw_data.groupby('Ticker')['Adj Close'].pct_change()  # Daily percentage changes\n",
    "raw_data['Volatility'] = raw_data.groupby('Ticker')['Daily Return'].transform(lambda x: x.rolling(window=7).std())\n",
    "\n",
    "# 2.3 Lagged Prices\n",
    "raw_data['Lag_1'] = raw_data.groupby('Ticker')['Adj Close'].shift(1)\n",
    "raw_data['Lag_2'] = raw_data.groupby('Ticker')['Adj Close'].shift(2)\n",
    "\n",
    "# Drop rows with NaN values caused by rolling/lags\n",
    "processed_data = raw_data.dropna()\n",
    "\n",
    "# Step 3: Save processed data back to SQLite\n",
    "with sqlite3.connect(db_path) as conn:\n",
    "    processed_data.to_sql('processed_stocks', conn, if_exists='replace', index=False)\n",
    "\n",
    "print(\"Processed data saved to SQLite database (table: 'processed_stocks').\")\n",
    "\n",
    "# Optional: Check the processed data\n",
    "print(processed_data.head())"
   ]
  }
 ],
 "metadata": {
  "kernelspec": {
   "display_name": "Python 3",
   "language": "python",
   "name": "python3"
  },
  "language_info": {
   "codemirror_mode": {
    "name": "ipython",
    "version": 3
   },
   "file_extension": ".py",
   "mimetype": "text/x-python",
   "name": "python",
   "nbconvert_exporter": "python",
   "pygments_lexer": "ipython3",
   "version": "3.12.4"
  }
 },
 "nbformat": 4,
 "nbformat_minor": 2
}
