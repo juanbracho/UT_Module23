{
 "cells": [
  {
   "cell_type": "code",
   "execution_count": 1,
   "metadata": {},
   "outputs": [
    {
     "name": "stdout",
     "output_type": "stream",
     "text": [
      "Loaded data from SQLite: 107400 rows\n"
     ]
    }
   ],
   "source": [
    "# Import necessary libraries\n",
    "import pandas as pd\n",
    "import numpy as np\n",
    "import sqlite3\n",
    "\n",
    "# Path to SQLite database\n",
    "db_path = 'database/stocks_data.db'\n",
    "\n",
    "# Step 1: Load raw stock data from SQLite\n",
    "with sqlite3.connect(db_path) as conn:\n",
    "    query = \"SELECT * FROM stocks\"\n",
    "    raw_data = pd.read_sql(query, conn)\n",
    "\n",
    "print(f\"Loaded data from SQLite: {raw_data.shape[0]} rows\")\n",
    "\n",
    "# Ensure 'Adj Close' is numeric\n",
    "raw_data['Adj Close'] = pd.to_numeric(raw_data['Adj Close'], errors='coerce')\n",
    "raw_data = raw_data.dropna(subset=['Adj Close'])\n"
   ]
  },
  {
   "cell_type": "code",
   "execution_count": 2,
   "metadata": {},
   "outputs": [
    {
     "name": "stdout",
     "output_type": "stream",
     "text": [
      "Processed data saved to SQLite database (table: 'processed_stocks').\n",
      "                   Date  Adj Close     Close      High       Low      Open  \\\n",
      "13  2000-01-21 00:00:00  19.416439  42.50000  42.59375  41.65625  42.00000   \n",
      "14  2000-01-24 00:00:00  19.245108  42.12500  43.15625  41.50000  42.71875   \n",
      "15  2000-01-25 00:00:00  19.202286  42.03125  43.06250  41.90625  42.00000   \n",
      "16  2000-01-26 00:00:00  19.073801  41.75000  42.28125  41.34375  42.03125   \n",
      "17  2000-01-27 00:00:00  18.502724  40.50000  41.65625  39.87500  41.65625   \n",
      "\n",
      "      Volume      Company Ticker  7-day MA  14-day MA  Daily Return  \\\n",
      "13  14343600  Exxon Mobil    XOM     19.31      19.02      0.015683   \n",
      "14  12459400  Exxon Mobil    XOM     19.33      19.12     -0.008824   \n",
      "15  11921600  Exxon Mobil    XOM     19.29      19.23     -0.002225   \n",
      "16   9298000  Exxon Mobil    XOM     19.28      19.28     -0.006691   \n",
      "17  10548400  Exxon Mobil    XOM     19.16      19.21     -0.029940   \n",
      "\n",
      "    Volatility      Lag_1      Lag_2  \n",
      "13    0.017801  19.116631  19.544924  \n",
      "14    0.018041  19.416439  19.116631  \n",
      "15    0.015271  19.245108  19.416439  \n",
      "16    0.013462  19.202286  19.245108  \n",
      "17    0.016132  19.073801  19.202286  \n"
     ]
    }
   ],
   "source": [
    "# Step 2: Engineer Features\n",
    "# 2.1 Moving Averages\n",
    "raw_data['7-day MA'] = raw_data.groupby('Ticker')['Adj Close'].transform(lambda x: x.rolling(window=7).mean().round(2))\n",
    "raw_data['14-day MA'] = raw_data.groupby('Ticker')['Adj Close'].transform(lambda x: x.rolling(window=14).mean().round(2))\n",
    "\n",
    "# 2.2 Volatility (7-day rolling standard deviation of percentage changes)\n",
    "raw_data['Daily Return'] = raw_data.groupby('Ticker')['Adj Close'].pct_change()  # Daily percentage changes\n",
    "raw_data['Volatility'] = raw_data.groupby('Ticker')['Daily Return'].transform(lambda x: x.rolling(window=7).std())\n",
    "\n",
    "# 2.3 Lagged Prices\n",
    "raw_data['Lag_1'] = raw_data.groupby('Ticker')['Adj Close'].shift(1)\n",
    "raw_data['Lag_2'] = raw_data.groupby('Ticker')['Adj Close'].shift(2)\n",
    "\n",
    "# Drop rows with NaN values caused by rolling/lags\n",
    "processed_data = raw_data.dropna()\n",
    "\n",
    "# Step 3: Save processed data back to SQLite\n",
    "with sqlite3.connect(db_path) as conn:\n",
    "    processed_data.to_sql('processed_stocks', conn, if_exists='replace', index=False)\n",
    "\n",
    "print(\"Processed data saved to SQLite database (table: 'processed_stocks').\")\n",
    "\n",
    "# Optional: Check the processed data\n",
    "print(processed_data.head())"
   ]
  }
 ],
 "metadata": {
  "kernelspec": {
   "display_name": "base",
   "language": "python",
   "name": "python3"
  },
  "language_info": {
   "codemirror_mode": {
    "name": "ipython",
    "version": 3
   },
   "file_extension": ".py",
   "mimetype": "text/x-python",
   "name": "python",
   "nbconvert_exporter": "python",
   "pygments_lexer": "ipython3",
   "version": "3.12.2"
  }
 },
 "nbformat": 4,
 "nbformat_minor": 2
}
