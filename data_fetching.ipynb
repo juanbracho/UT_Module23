{
 "cells": [
  {
   "cell_type": "code",
   "execution_count": 1,
   "metadata": {},
   "outputs": [],
   "source": [
    "# Import necessary libraries\n",
    "import yfinance as yf\n",
    "import pandas as pd\n",
    "import sqlite3\n",
    "\n",
    "# Define a function to fetch stock data and save to SQLite\n",
    "def fetch_and_store_data(ticker, company_name, db_path):\n",
    "    \"\"\"\n",
    "    Fetch stock data for a specific ticker and save it to an SQLite database.\n",
    "\n",
    "    Parameters:\n",
    "    ticker (str): The stock ticker symbol (e.g., 'XOM').\n",
    "    company_name (str): The full company name.\n",
    "    db_path (str): Path to the SQLite database file.\n",
    "    \"\"\"\n",
    "    try:\n",
    "        # Fetch data from yfinance\n",
    "        stock_data = yf.download(ticker, start='2015-01-01', end='2022-12-31', progress=True)\n",
    "        \n",
    "        # Flatten multi-level column headers (if any)\n",
    "        stock_data.columns = [col[0] if isinstance(col, tuple) else col for col in stock_data.columns]\n",
    "        \n",
    "        # Add additional columns for the company and ticker\n",
    "        stock_data['Company'] = company_name\n",
    "        stock_data['Ticker'] = ticker\n",
    "        \n",
    "        # Reset the index to make 'Date' a column\n",
    "        stock_data.reset_index(inplace=True)\n",
    "        \n",
    "        # Connect to SQLite database\n",
    "        with sqlite3.connect(db_path) as conn:\n",
    "            # Save data to the database (append mode)\n",
    "            stock_data.to_sql('stocks', conn, if_exists='append', index=False)\n",
    "        \n",
    "        print(f\"Data for {company_name} ({ticker}) saved to SQLite database.\")\n",
    "    except Exception as e:\n",
    "        print(f\"An error occurred while fetching data for {ticker}: {e}\")"
   ]
  },
  {
   "cell_type": "code",
   "execution_count": 2,
   "metadata": {},
   "outputs": [
    {
     "name": "stderr",
     "output_type": "stream",
     "text": [
      "[*********************100%***********************]  1 of 1 completed\n",
      "[*********************100%***********************]  1 of 1 completed"
     ]
    },
    {
     "name": "stdout",
     "output_type": "stream",
     "text": [
      "Data for Exxon Mobil (XOM) saved to SQLite database.\n",
      "Data for Chevron (CVX) saved to SQLite database.\n"
     ]
    },
    {
     "name": "stderr",
     "output_type": "stream",
     "text": [
      "\n",
      "[*********************100%***********************]  1 of 1 completed\n"
     ]
    },
    {
     "name": "stdout",
     "output_type": "stream",
     "text": [
      "Data for ConocoPhillips (COP) saved to SQLite database.\n"
     ]
    },
    {
     "name": "stderr",
     "output_type": "stream",
     "text": [
      "[*********************100%***********************]  1 of 1 completed\n"
     ]
    },
    {
     "name": "stdout",
     "output_type": "stream",
     "text": [
      "Data for AT&T (T) saved to SQLite database.\n"
     ]
    },
    {
     "name": "stderr",
     "output_type": "stream",
     "text": [
      "[*********************100%***********************]  1 of 1 completed\n"
     ]
    },
    {
     "name": "stdout",
     "output_type": "stream",
     "text": [
      "Data for T-Mobile (TMUS) saved to SQLite database.\n"
     ]
    },
    {
     "name": "stderr",
     "output_type": "stream",
     "text": [
      "[*********************100%***********************]  1 of 1 completed"
     ]
    },
    {
     "name": "stdout",
     "output_type": "stream",
     "text": [
      "Data for Verizon (VZ) saved to SQLite database.\n",
      "\n",
      "Verifying stored data:\n",
      "  Ticker         Company\n",
      "0    XOM     Exxon Mobil\n",
      "1    CVX         Chevron\n",
      "2    COP  ConocoPhillips\n",
      "3      T            AT&T\n",
      "4   TMUS        T-Mobile\n",
      "5     VZ         Verizon\n"
     ]
    },
    {
     "name": "stderr",
     "output_type": "stream",
     "text": [
      "\n"
     ]
    }
   ],
   "source": [
    "# List of companies and their tickers\n",
    "stocks = [\n",
    "    {'ticker': 'XOM', 'company': 'Exxon Mobil'},\n",
    "    {'ticker': 'CVX', 'company': 'Chevron'},\n",
    "    {'ticker': 'COP', 'company': 'ConocoPhillips'},\n",
    "    {'ticker': 'T', 'company': 'AT&T'},\n",
    "    {'ticker': 'TMUS', 'company': 'T-Mobile'},\n",
    "    {'ticker': 'VZ', 'company': 'Verizon'}\n",
    "]\n",
    "\n",
    "# Path to SQLite database file\n",
    "db_path = 'stocks_data.db'\n",
    "\n",
    "# Fetch and store data for each stock\n",
    "for stock in stocks:\n",
    "    fetch_and_store_data(stock['ticker'], stock['company'], db_path)\n",
    "\n",
    "# Verify data in the SQLite database\n",
    "print(\"\\nVerifying stored data:\")\n",
    "with sqlite3.connect(db_path) as conn:\n",
    "    query = \"SELECT DISTINCT Ticker, Company FROM stocks\"\n",
    "    stored_data = pd.read_sql(query, conn)\n",
    "    print(stored_data)"
   ]
  }
 ],
 "metadata": {
  "kernelspec": {
   "display_name": "Python 3",
   "language": "python",
   "name": "python3"
  },
  "language_info": {
   "codemirror_mode": {
    "name": "ipython",
    "version": 3
   },
   "file_extension": ".py",
   "mimetype": "text/x-python",
   "name": "python",
   "nbconvert_exporter": "python",
   "pygments_lexer": "ipython3",
   "version": "3.12.4"
  }
 },
 "nbformat": 4,
 "nbformat_minor": 2
}
