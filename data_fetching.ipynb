{
 "cells": [
  {
   "cell_type": "code",
   "execution_count": 16,
   "metadata": {},
   "outputs": [],
   "source": [
    "# Import necessary libraries\n",
    "import yfinance as yf\n",
    "import pandas as pd\n",
    "import sqlite3\n",
    "import os\n",
    "import requests\n",
    "from bs4 import BeautifulSoup\n",
    "\n",
    "# Define constants\n",
    "DB_PATH = 'database/stocks_data.db'  # Path to the SQLite database\n",
    "RAW_STOCKS_TABLE = 'raw_stocks'  # Table name for storing raw stock data\n",
    "\n",
    "# Ensure the database directory exists\n",
    "if not os.path.exists(DB_PATH):\n",
    "    print(f\"Database will be created at {DB_PATH}\")"
   ]
  },
  {
   "cell_type": "code",
   "execution_count": 17,
   "metadata": {},
   "outputs": [
    {
     "name": "stdout",
     "output_type": "stream",
     "text": [
      "Table 'tickers' ensured in database.\n",
      "Ticker data saved to the 'tickers' table successfully.\n"
     ]
    }
   ],
   "source": [
    "# Define the URL for the Wikipedia page\n",
    "url = \"https://en.wikipedia.org/wiki/List_of_S%26P_500_companies\"\n",
    "\n",
    "# Step 1: Scrape data from the Wikipedia page\n",
    "response = requests.get(url)\n",
    "if response.status_code == 200:\n",
    "    soup = BeautifulSoup(response.content, \"html.parser\")\n",
    "    table = soup.find(\"table\", {\"id\": \"constituents\"})\n",
    "    \n",
    "    # Extract data into lists\n",
    "    symbols = []\n",
    "    companies = []\n",
    "    for row in table.find(\"tbody\").find_all(\"tr\")[1:]:  # Skip the header row\n",
    "        columns = row.find_all(\"td\")\n",
    "        if len(columns) > 1:  # Ensure the row contains enough data\n",
    "            symbols.append(columns[0].text.strip())  # Symbol column\n",
    "            companies.append(columns[1].text.strip())  # Company column\n",
    "else:\n",
    "    print(f\"Failed to fetch the webpage. Status code: {response.status_code}\")\n",
    "    exit()\n",
    "\n",
    "# Step 2: Create a DataFrame\n",
    "ticker_data = pd.DataFrame({\n",
    "    \"Symbol\": symbols,\n",
    "    \"Company\": companies\n",
    "})\n",
    "\n",
    "# Step 3: Save data to SQLite database\n",
    "db_path = 'database/stocks_data.db'\n",
    "table_name = 'tickers'\n",
    "\n",
    "with sqlite3.connect(db_path) as conn:\n",
    "    # Create the `tickers` table if it does not exist\n",
    "    conn.execute(f\"\"\"\n",
    "    CREATE TABLE IF NOT EXISTS {table_name} (\n",
    "        Symbol TEXT PRIMARY KEY,\n",
    "        Company TEXT\n",
    "    )\n",
    "    \"\"\")\n",
    "    print(f\"Table '{table_name}' ensured in database.\")\n",
    "    \n",
    "    # Insert data into the table\n",
    "    ticker_data.to_sql(table_name, conn, if_exists='replace', index=False)\n",
    "    print(f\"Ticker data saved to the '{table_name}' table successfully.\")\n"
   ]
  },
  {
   "cell_type": "code",
   "execution_count": 18,
   "metadata": {},
   "outputs": [],
   "source": [
    "# Function to initialize the database\n",
    "def initialize_database():\n",
    "    \"\"\"\n",
    "    Creates the raw_stocks table if it doesn't exist in the database.\n",
    "    \"\"\"\n",
    "    with sqlite3.connect(DB_PATH) as conn:\n",
    "        conn.execute(f\"\"\"\n",
    "        CREATE TABLE IF NOT EXISTS {RAW_STOCKS_TABLE} (\n",
    "            Date TEXT,\n",
    "            Open REAL,\n",
    "            High REAL,\n",
    "            Low REAL,\n",
    "            Close REAL,\n",
    "            Adj_Close REAL,\n",
    "            Volume INTEGER,\n",
    "            Ticker TEXT,\n",
    "            PRIMARY KEY (Date, Ticker)\n",
    "        )\n",
    "        \"\"\")\n",
    "        print(f\"Table {RAW_STOCKS_TABLE} ensured in database.\")\n"
   ]
  },
  {
   "cell_type": "code",
   "execution_count": 19,
   "metadata": {},
   "outputs": [],
   "source": [
    "# Function to fetch stock data and save it to the database\n",
    "def fetch_and_store_stock_data(ticker):\n",
    "    \"\"\"\n",
    "    Fetches stock data from Yahoo Finance and saves it to the database.\n",
    "\n",
    "    Parameters:\n",
    "    ticker (str): The stock ticker symbol (e.g., 'AAPL').\n",
    "    \"\"\"\n",
    "    try:\n",
    "        print(f\"Fetching data for {ticker}...\")\n",
    "\n",
    "        # Fetch data from yfinance\n",
    "        stock_data = yf.download(ticker, start='2000-01-01', end='2024-12-31', progress=True)\n",
    "\n",
    "        # Add the Ticker column\n",
    "        stock_data['Ticker'] = ticker\n",
    "\n",
    "        # Reset the index to make 'Date' a column\n",
    "        stock_data.reset_index(inplace=True)\n",
    "\n",
    "        # Flatten column names if multi-indexed\n",
    "        stock_data.columns = [col[0] if isinstance(col, tuple) else col for col in stock_data.columns]\n",
    "\n",
    "        # Rename columns to match the database schema\n",
    "        stock_data.rename(columns={\n",
    "            'Adj Close': 'Adj_Close'\n",
    "        }, inplace=True)\n",
    "\n",
    "        # Connect to the database and save the data\n",
    "        with sqlite3.connect(DB_PATH) as conn:\n",
    "            stock_data.to_sql(RAW_STOCKS_TABLE, conn, if_exists='append', index=False)\n",
    "\n",
    "        print(f\"Data for {ticker} saved to the database.\")\n",
    "    except Exception as e:\n",
    "        print(f\"An error occurred while fetching data for {ticker}: {e}\")\n"
   ]
  },
  {
   "cell_type": "code",
   "execution_count": 20,
   "metadata": {},
   "outputs": [],
   "source": [
    "# Function to fetch data for multiple tickers in bulk\n",
    "def fetch_and_store_bulk_data(tickers):\n",
    "    \"\"\"\n",
    "    Fetches stock data for multiple tickers and saves it to the database.\n",
    "\n",
    "    Parameters:\n",
    "    tickers (list of str): List of stock ticker symbols.\n",
    "    \"\"\"\n",
    "    for ticker in tickers:\n",
    "        fetch_and_store_stock_data(ticker)\n"
   ]
  }
 ],
 "metadata": {
  "kernelspec": {
   "display_name": "Python 3",
   "language": "python",
   "name": "python3"
  },
  "language_info": {
   "codemirror_mode": {
    "name": "ipython",
    "version": 3
   },
   "file_extension": ".py",
   "mimetype": "text/x-python",
   "name": "python",
   "nbconvert_exporter": "python",
   "pygments_lexer": "ipython3",
   "version": "3.12.4"
  }
 },
 "nbformat": 4,
 "nbformat_minor": 2
}
