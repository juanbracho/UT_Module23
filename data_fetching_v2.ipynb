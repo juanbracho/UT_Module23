{
 "cells": [
  {
   "cell_type": "code",
   "execution_count": 1,
   "metadata": {},
   "outputs": [],
   "source": [
    "# Import necessary libraries\n",
    "import yfinance as yf\n",
    "import pandas as pd\n",
    "import sqlite3\n",
    "import time\n",
    "import requests\n",
    "from bs4 import BeautifulSoup"
   ]
  },
  {
   "cell_type": "code",
   "execution_count": 2,
   "metadata": {},
   "outputs": [
    {
     "name": "stdout",
     "output_type": "stream",
     "text": [
      "Retrieved 503 S&P 500 tickers.\n"
     ]
    }
   ],
   "source": [
    "# Function to get S&P 500 tickers\n",
    "def get_sp500_tickers():\n",
    "    url = \"https://en.wikipedia.org/wiki/List_of_S%26P_500_companies\"\n",
    "    response = requests.get(url)\n",
    "    soup = BeautifulSoup(response.text, 'html.parser')\n",
    "\n",
    "    # Find the table containing the tickers\n",
    "    table = soup.find('table', {'class': 'wikitable'})\n",
    "    tickers = []\n",
    "    for row in table.findAll('tr')[1:]:\n",
    "        ticker = row.findAll('td')[0].text.strip()\n",
    "        tickers.append(ticker)\n",
    "    return tickers\n",
    "\n",
    "# Get the S&P 500 tickers\n",
    "sp500_tickers = get_sp500_tickers()\n",
    "print(f\"Retrieved {len(sp500_tickers)} S&P 500 tickers.\")"
   ]
  },
  {
   "cell_type": "code",
   "execution_count": 3,
   "metadata": {},
   "outputs": [],
   "source": [
    "# Path to SQLite database\n",
    "db_path = 'database/stocks_data.db'"
   ]
  },
  {
   "cell_type": "code",
   "execution_count": null,
   "metadata": {},
   "outputs": [],
   "source": [
    "\n",
    "# Function to fetch and save data for a ticker\n",
    "def fetch_and_save_ticker(ticker, conn):\n",
    "    try:\n",
    "        print(f\"Fetching data for {ticker}...\")\n",
    "        stock_data = yf.download(ticker, start='2015-01-01', end='2022-12-31', progress=False)\n",
    "        \n",
    "        if stock_data.empty:\n",
    "            print(f\"No data found for {ticker}, skipping...\")\n",
    "            return\n",
    "        \n",
    "        # Add columns for company and ticker\n",
    "        stock_data['Ticker'] = ticker\n",
    "        \n",
    "        # Reset index to move 'Date' from index to a column\n",
    "        stock_data.reset_index(inplace=True)\n",
    "        \n",
    "        # Save data to the SQLite database\n",
    "        stock_data.to_sql('raw_stocks', conn, if_exists='append', index=False)\n",
    "        print(f\"Data for {ticker} saved to SQLite database.\")\n",
    "    except Exception as e:\n",
    "        print(f\"Error fetching data for {ticker}: {e}\")\n",
    "\n",
    "# Open SQLite connection\n",
    "with sqlite3.connect(db_path) as conn:\n",
    "    # Ensure table is created if it doesn't exist\n",
    "    conn.execute(\"\"\"\n",
    "    CREATE TABLE IF NOT EXISTS raw_stocks (\n",
    "        Date TEXT,\n",
    "        Open REAL,\n",
    "        High REAL,\n",
    "        Low REAL,\n",
    "        Close REAL,\n",
    "        Adj_Close REAL,\n",
    "        Volume INTEGER,\n",
    "        Ticker TEXT\n",
    "    )\n",
    "    \"\"\")\n",
    "    conn.commit()\n",
    "\n",
    "    # Fetch and save data for each ticker\n",
    "    for ticker in sp500_tickers:\n",
    "        fetch_and_save_ticker(ticker, conn)\n",
    "        time.sleep(1)  # Delay to avoid hitting API rate limits\n",
    "\n",
    "print(\"Data fetching complete. Database updated.\")"
   ]
  }
 ],
 "metadata": {
  "kernelspec": {
   "display_name": "Python 3",
   "language": "python",
   "name": "python3"
  },
  "language_info": {
   "codemirror_mode": {
    "name": "ipython",
    "version": 3
   },
   "file_extension": ".py",
   "mimetype": "text/x-python",
   "name": "python",
   "nbconvert_exporter": "python",
   "pygments_lexer": "ipython3",
   "version": "3.12.4"
  }
 },
 "nbformat": 4,
 "nbformat_minor": 2
}
