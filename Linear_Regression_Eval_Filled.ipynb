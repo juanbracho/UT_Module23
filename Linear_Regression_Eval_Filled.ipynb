{
 "cells": [
  {
   "cell_type": "markdown",
   "id": "6e0d6473",
   "metadata": {},
   "source": [
    "# Linear Regression Training with Enhanced Visualizations\n",
    "This notebook trains a Linear Regression model for stock price prediction and provides detailed visualizations."
   ]
  },
  {
   "cell_type": "markdown",
   "id": "39b104d6",
   "metadata": {},
   "source": [
    "## Introduction\n",
    "This notebook trains and saves machine learning models for predicting stock prices, focusing on individual tickers. \n",
    "\n",
    "### Key Steps:\n",
    "1. Load processed data from SQLite.\n",
    "2. Filter data for a specific ticker (default: XOM).\n",
    "3. Preprocess and normalize features.\n",
    "4. Train a Linear Regression model.\n",
    "5. Save the trained model and scaler for use in evaluation and predictions.\n"
   ]
  },
  {
   "cell_type": "code",
   "execution_count": null,
   "id": "3cf39657",
   "metadata": {},
   "outputs": [],
   "source": [
    "## Import Libraries\n",
    "- **pandas**: For data manipulation and analysis.\n",
    "- **sqlite3**: For interacting with the SQLite database storing stock data.\n",
    "- **scikit-learn**: For splitting data, training the regression model, and evaluating performance.\n",
    "- **joblib**: For saving trained models and scalers."
   ]
  },
  {
   "cell_type": "markdown",
   "id": "adc680c3",
   "metadata": {},
   "source": [
    "## Load and Prepare Data"
   ]
  },
  {
   "cell_type": "code",
   "execution_count": null,
   "id": "94c5e832",
   "metadata": {},
   "outputs": [],
   "source": [
    "\n",
    "# Load processed stock data\n",
    "db_path = 'database/stocks_data.db'\n",
    "\n",
    "# Load data from SQLite\n",
    "with sqlite3.connect(db_path) as conn:\n",
    "    query = \"SELECT * FROM processed_stocks\"\n",
    "    data = pd.read_sql(query, conn)\n",
    "print(f\"Loaded processed data: {data.shape[0]} rows\")\n",
    "\n",
    "# Filter data for the default ticker\n",
    "default_ticker = 'XOM'\n",
    "ticker_data = data[data['Ticker'] == default_ticker]\n",
    "print(f\"Loaded data for {default_ticker}: {ticker_data.shape[0]} rows\")\n"
   ]
  },
  {
   "cell_type": "code",
   "execution_count": null,
   "id": "1cd3c557",
   "metadata": {},
   "outputs": [],
   "source": [
    "\n",
    "# Preprocess data for Linear Regression\n",
    "features = ['7-day MA', '14-day MA', 'Volatility', 'Lag_1', 'Lag_2']\n",
    "target = 'Adj Close'\n",
    "\n",
    "X = ticker_data[features]\n",
    "y = ticker_data[target]\n",
    "\n",
    "# Normalize features\n",
    "scaler = StandardScaler()\n",
    "X_scaled = scaler.fit_transform(X)\n",
    "\n",
    "# Split data into training and testing sets\n",
    "X_train, X_test, y_train, y_test = train_test_split(X_scaled, y, test_size=0.2, random_state=42)\n"
   ]
  },
  {
   "cell_type": "markdown",
   "id": "0a47dc52",
   "metadata": {},
   "source": [
    "## Train Linear Regression Model"
   ]
  },
  {
   "cell_type": "code",
   "execution_count": null,
   "id": "c9cac4e0",
   "metadata": {},
   "outputs": [],
   "source": [
    "\n",
    "# Define and train Linear Regression model\n",
    "model = LinearRegression()\n",
    "model.fit(X_train, y_train)\n",
    "\n",
    "# Generate predictions\n",
    "y_pred = model.predict(X_test)\n"
   ]
  },
  {
   "cell_type": "markdown",
   "id": "15b745f5",
   "metadata": {},
   "source": [
    "## Visualization: Feature Importance"
   ]
  },
  {
   "cell_type": "code",
   "execution_count": null,
   "id": "0a37a9b4",
   "metadata": {},
   "outputs": [],
   "source": [
    "\n",
    "# Visualize feature importance (coefficients)\n",
    "feature_importance = pd.DataFrame({\n",
    "    'Feature': features,\n",
    "    'Coefficient': model.coef_\n",
    "}).sort_values(by='Coefficient', ascending=False)\n",
    "\n",
    "plt.figure(figsize=(10, 6))\n",
    "plt.bar(feature_importance['Feature'], feature_importance['Coefficient'])\n",
    "plt.title('Feature Importance (Linear Regression)')\n",
    "plt.xlabel('Feature')\n",
    "plt.ylabel('Coefficient')\n",
    "plt.grid()\n",
    "plt.show()\n"
   ]
  },
  {
   "cell_type": "markdown",
   "id": "a5ff7448",
   "metadata": {},
   "source": [
    "## Visualization: Residual Trends"
   ]
  },
  {
   "cell_type": "code",
   "execution_count": null,
   "id": "c950287b",
   "metadata": {},
   "outputs": [],
   "source": [
    "\n",
    "# Plot residual trends over time\n",
    "residuals = y_test - y_pred\n",
    "\n",
    "plt.figure(figsize=(14, 7))\n",
    "plt.plot(residuals.reset_index(drop=True), label='Residuals')\n",
    "plt.axhline(y=0, color='red', linestyle='--', label='Zero Error Line')\n",
    "plt.title('Residual Trends Over Time (Linear Regression)')\n",
    "plt.xlabel('Data Points')\n",
    "plt.ylabel('Residuals')\n",
    "plt.legend()\n",
    "plt.grid()\n",
    "plt.show()\n"
   ]
  },
  {
   "cell_type": "markdown",
   "id": "25ecd7b3",
   "metadata": {},
   "source": [
    "## Visualization: R² by Feature Contribution"
   ]
  },
  {
   "cell_type": "code",
   "execution_count": null,
   "id": "1e9cf50a",
   "metadata": {},
   "outputs": [],
   "source": [
    "\n",
    "# Compute R² contribution for each feature\n",
    "r2_values = []\n",
    "for i, feature in enumerate(features):\n",
    "    temp_X = X_test[:, i].reshape(-1, 1)\n",
    "    temp_model = LinearRegression()\n",
    "    temp_model.fit(temp_X, y_test)\n",
    "    r2_values.append(temp_model.score(temp_X, y_test))\n",
    "\n",
    "# Plot R² by feature\n",
    "plt.figure(figsize=(10, 6))\n",
    "plt.bar(features, r2_values)\n",
    "plt.title('R² Contribution by Feature (Linear Regression)')\n",
    "plt.xlabel('Feature')\n",
    "plt.ylabel('R² Score')\n",
    "plt.grid()\n",
    "plt.show()\n"
   ]
  }
 ],
 "metadata": {},
 "nbformat": 4,
 "nbformat_minor": 5
}
