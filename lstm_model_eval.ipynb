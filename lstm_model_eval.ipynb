{
 "cells": [
  {
   "cell_type": "markdown",
   "metadata": {},
   "source": [
    "Notebook: Ticker-Specific LSTM Model Evaluation\n",
    "\n",
    "Objective\n",
    "\n",
    "This notebook evaluates the LSTM machine learning model trained for individual stock tickers. It dynamically loads the corresponding LSTM model and scaler to:\n",
    "1.\tMake predictions on stock prices (Adj Close) using the processed features.\n",
    "2.\tAssess the model’s performance using evaluation metrics.\n",
    "3.\tVisualize the results with comparison graphs and residual analysis."
   ]
  },
  {
   "cell_type": "markdown",
   "metadata": {},
   "source": [
    "Import Required Libraries\n",
    "\n",
    "This section imports necessary libraries for:\n",
    "\n",
    "•\tData Manipulation and Querying: pandas, sqlite3\n",
    "\n",
    "•\tModel Loading and Evaluation: keras.models, joblib, sklearn.metrics\n",
    "\n",
    "•\tVisualization: matplotlib.pyplot"
   ]
  },
  {
   "cell_type": "code",
   "execution_count": null,
   "metadata": {},
   "outputs": [],
   "source": [
    "# Load Libraries\n",
    "import pandas as pd\n",
    "import numpy as np\n",
    "from keras.models import load_model\n",
    "from sklearn.metrics import mean_squared_error, r2_score, mean_absolute_error\n",
    "import joblib\n",
    "import sqlite3\n",
    "import matplotlib.pyplot as plt\n"
   ]
  },
  {
   "cell_type": "markdown",
   "metadata": {},
   "source": [
    "Set Default Ticker\n",
    "\n",
    "•\tPurpose: Defines the stock ticker to evaluate. By default:\n",
    "\n",
    "•\tTicker: XOM (Exxon Mobil).\n",
    "\n",
    "•\tCan be dynamically updated in the future using a web app.\n",
    "\n",
    "•\tOutput: Confirms the ticker being evaluated."
   ]
  },
  {
   "cell_type": "code",
   "execution_count": null,
   "metadata": {},
   "outputs": [],
   "source": [
    "\n",
    "# Define the default ticker to evaluate\n",
    "default_ticker = \"XOM\"\n",
    "print(f\"Evaluating model for Ticker: {default_ticker}\")\n"
   ]
  },
  {
   "cell_type": "markdown",
   "metadata": {},
   "source": [
    "Load Processed Data\n",
    "\n",
    "•\tPurpose: Fetches stock data for the specified ticker from the SQLite database.\n",
    "\n",
    "•\tSteps:\n",
    "\n",
    "1.\tDefine the database path (stocks_data.db).\n",
    "\n",
    "2.\tQuery the processed_stocks table for the selected ticker.\n",
    "\n",
    "3.\tLoad the data into a pandas DataFrame.\n",
    "\n",
    "\t•\tOutput: Displays the number of rows loaded."
   ]
  },
  {
   "cell_type": "code",
   "execution_count": null,
   "metadata": {},
   "outputs": [],
   "source": [
    "\n",
    "# Path to SQLite database and saved models\n",
    "db_path = 'database/stocks_data.db'\n",
    "\n",
    "# Load Test Data\n",
    "with sqlite3.connect(db_path) as conn:\n",
    "    query = \"SELECT * FROM processed_stocks\"\n",
    "    data = pd.read_sql(query, conn)\n",
    "\n",
    "print(f\"Loaded data for evaluation: {data.shape[0]} rows\")\n"
   ]
  },
  {
   "cell_type": "markdown",
   "metadata": {},
   "source": [
    "Load LSTM Model and Scaler\n",
    "\n",
    "•\tPurpose: Load the pre-trained LSTM model and scaler for the selected ticker.\n",
    "\n",
    "•\tSteps:\n",
    "\n",
    "1.\tDefine paths to the model (.h5) and scaler (.pkl).\n",
    "\n",
    "2.\tUse Keras to load the model and joblib to load the scaler.\n",
    "\n",
    "\t•\tOutput: Confirms successful loading of the model and scaler."
   ]
  },
  {
   "cell_type": "code",
   "execution_count": null,
   "metadata": {},
   "outputs": [],
   "source": [
    "\n",
    "# Load the LSTM model and scaler for the selected ticker\n",
    "model_path = f'models/model_{default_ticker}_lstm.h5'\n",
    "scaler_path = f'models/scaler_{default_ticker}_lstm.pkl'\n",
    "\n",
    "model = load_model(model_path)  # Use Keras to load LSTM models\n",
    "scaler = joblib.load(scaler_path)\n",
    "\n",
    "print(f\"Loaded LSTM model and scaler for Ticker: {default_ticker}\")\n"
   ]
  },
  {
   "cell_type": "markdown",
   "metadata": {},
   "source": [
    "Prepare Features and Target\n",
    "\n",
    "•\tFeatures (X):\n",
    "\n",
    "•\tIndependent variables used for predictions:\n",
    "\n",
    "•\t7-day MA, 14-day MA, Volatility, Lag_1, Lag_2.\n",
    "\n",
    "•\tTarget (y):\n",
    "    \n",
    "•\tDependent variable to predict: Adj Close (Adjusted Closing Price)."
   ]
  },
  {
   "cell_type": "code",
   "execution_count": null,
   "metadata": {},
   "outputs": [],
   "source": [
    "\n",
    "# Define features and target\n",
    "features = ['7-day MA', '14-day MA', 'Volatility', 'Lag_1', 'Lag_2']\n",
    "target = 'Adj Close'\n",
    "\n",
    "X = data[features]\n",
    "y = data[target]"
   ]
  },
  {
   "cell_type": "markdown",
   "metadata": {},
   "source": [
    "Normalize Features\n",
    "\n",
    "•\tPurpose: Ensures input features are scaled consistently using the pre-trained scaler.\n",
    "\n",
    "•\tSteps:\n",
    "\n",
    "1.\tNormalize features (X) using the transform method of the loaded scaler.\n",
    "\n",
    "2.\tReshape the features for the LSTM model to fit the expected input dimensions: (samples, timesteps, features)."
   ]
  },
  {
   "cell_type": "code",
   "execution_count": null,
   "metadata": {},
   "outputs": [],
   "source": [
    "\n",
    "# Normalize the features\n",
    "X_scaled = scaler.transform(X)\n",
    "\n",
    "# Reshape the features for LSTM (samples, timesteps, features)\n",
    "X_scaled = X_scaled.reshape(X_scaled.shape[0], 1, X_scaled.shape[1])\n"
   ]
  },
  {
   "cell_type": "markdown",
   "metadata": {},
   "source": [
    "Make Predictions\n",
    "\n",
    "•\tPurpose: Use the LSTM model to predict the stock prices.\n",
    "\n",
    "•\tOutput: Flatten the predictions for easier analysis."
   ]
  },
  {
   "cell_type": "code",
   "execution_count": null,
   "metadata": {},
   "outputs": [],
   "source": [
    "\n",
    "# Make Predictions\n",
    "y_pred = model.predict(X_scaled).flatten()"
   ]
  },
  {
   "cell_type": "markdown",
   "metadata": {},
   "source": [
    "Evaluate Model Performance\n",
    "\n",
    "•\tPurpose: Assess model performance using the following metrics:\n",
    "\n",
    "1.\tMean Absolute Error (MAE): Average magnitude of prediction errors.\n",
    "\n",
    "2.\tMean Squared Error (MSE): Average squared prediction errors.\n",
    "\n",
    "3.\tRoot Mean Squared Error (RMSE): Square root of MSE.\n",
    "\n",
    "4.\tR² Score: Proportion of variance explained by the model.\n",
    "\n",
    "\t•\tOutput: Displays key evaluation metrics."
   ]
  },
  {
   "cell_type": "code",
   "execution_count": null,
   "metadata": {},
   "outputs": [],
   "source": [
    "\n",
    "# Evaluate Model Performance\n",
    "mse = mean_squared_error(y, y_pred)\n",
    "mae = mean_absolute_error(y, y_pred)\n",
    "rmse = np.sqrt(mse)\n",
    "r2 = r2_score(y, y_pred)\n",
    "\n",
    "print(\"LSTM Model Evaluation Metrics:\")\n",
    "print(f\"Mean Squared Error (MSE): {mse:.2f}\")\n",
    "print(f\"Mean Absolute Error (MAE): {mae:.2f}\")\n",
    "print(f\"Root Mean Squared Error (RMSE): {rmse:.2f}\")\n",
    "print(f\"R² Score: {r2:.2f}\")\n"
   ]
  },
  {
   "cell_type": "markdown",
   "metadata": {},
   "source": [
    "Visualization 1: Actual vs. Predicted Values\n",
    "\n",
    "•\tPurpose: Compare actual stock prices with predicted prices.\n",
    "\n",
    "•\tOutput: Line plot of Actual vs. LSTM Predicted."
   ]
  },
  {
   "cell_type": "code",
   "execution_count": null,
   "metadata": {},
   "outputs": [],
   "source": [
    "\n",
    "# Visualization: Actual vs Predicted Values\n",
    "plt.figure(figsize=(14, 7))\n",
    "plt.plot(y.values, label='Actual', alpha=0.8)\n",
    "plt.plot(y_pred, label='LSTM Predicted', alpha=0.8)\n",
    "plt.title('Actual vs Predicted Stock Prices (LSTM)')\n",
    "plt.xlabel('Data Points')\n",
    "plt.ylabel('Stock Price (Adj Close)')\n",
    "plt.legend()\n",
    "plt.grid()\n",
    "plt.show()\n"
   ]
  },
  {
   "cell_type": "markdown",
   "metadata": {},
   "source": [
    "Visualization 2: Residuals Distribution\n",
    "\n",
    "•\tPurpose: Analyze the distribution of residuals (differences between actual and predicted prices).\n",
    "\n",
    "•\tOutput: Histogram with a vertical red dashed line at zero."
   ]
  },
  {
   "cell_type": "code",
   "execution_count": null,
   "metadata": {},
   "outputs": [],
   "source": [
    "\n",
    "# Visualization: Residuals\n",
    "residuals_lstm = y - y_pred\n",
    "\n",
    "plt.figure(figsize=(10, 6))\n",
    "plt.hist(residuals_lstm, bins=23, alpha=0.75, color='blue', label='LSTM Residuals')\n",
    "plt.axvline(x=0, color='red', linestyle='--', label=\"Zero Residual Line\")\n",
    "plt.title('Residuals Distribution (LSTM)')\n",
    "plt.xlabel('Prediction Error (Residual)')\n",
    "plt.ylabel('Frequency')\n",
    "plt.legend()\n",
    "plt.grid()\n",
    "plt.show()\n"
   ]
  },
  {
   "cell_type": "markdown",
   "metadata": {},
   "source": [
    "Visualization 3: Scatter Plot of Actual vs. Predicted\n",
    "\n",
    "•\tPurpose: Visualize the relationship between actual and predicted values.\n",
    "\n",
    "•\tOutput: Scatter plot with a red dashed line representing the ideal fit."
   ]
  },
  {
   "cell_type": "code",
   "execution_count": null,
   "metadata": {},
   "outputs": [],
   "source": [
    "\n",
    "# Visualization: Scatter Plot of Actual vs Predicted\n",
    "plt.figure(figsize=(8, 8))\n",
    "plt.scatter(y, y_pred, alpha=0.5, label='LSTM Predicted')\n",
    "plt.plot([min(y), max(y)], [min(y), max(y)], color='red', linestyle='--', linewidth=2, label='Ideal Fit')\n",
    "plt.title('Scatter Plot: Actual vs Predicted (LSTM)')\n",
    "plt.xlabel('Actual Stock Price (Adj Close)')\n",
    "plt.ylabel('Predicted Stock Price')\n",
    "plt.legend()\n",
    "plt.grid()\n",
    "plt.show()"
   ]
  },
  {
   "cell_type": "markdown",
   "metadata": {},
   "source": [
    "Conclusion\n",
    "\n",
    "This notebook successfully evaluates the LSTM model for the selected ticker (XOM) by:\n",
    "\n",
    "1.\tLoading the model and scaler.\n",
    "\n",
    "2.\tPredicting stock prices based on preprocessed features.\n",
    "\n",
    "3.\tProviding insights into model performance using metrics and visualizations."
   ]
  }
 ],
 "metadata": {
  "kernelspec": {
   "display_name": "base",
   "language": "python",
   "name": "python3"
  },
  "language_info": {
   "codemirror_mode": {
    "name": "ipython",
    "version": 3
   },
   "file_extension": ".py",
   "mimetype": "text/x-python",
   "name": "python",
   "nbconvert_exporter": "python",
   "pygments_lexer": "ipython3",
   "version": "3.12.2"
  }
 },
 "nbformat": 4,
 "nbformat_minor": 2
}
